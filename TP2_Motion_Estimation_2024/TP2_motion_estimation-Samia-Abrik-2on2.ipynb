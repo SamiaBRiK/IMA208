{
 "cells": [
  {
   "cell_type": "markdown",
   "metadata": {},
   "source": [
    "This second practical work, on motion estimation, deals with parametric motion estimation. You have to reuse some of the functions you implemented during the first practical work.\n",
    "\n",
    "You are asked to complete the different algorithms and to try it. Also, please answer to the theoretical questions, in the notebook."
   ]
  },
  {
   "cell_type": "code",
   "execution_count": 1,
   "metadata": {},
   "outputs": [],
   "source": [
    "import numpy as np\n",
    "from scipy.io import loadmat\n",
    "import matplotlib.pyplot as plt\n",
    "import cv2\n",
    "from scipy.ndimage import gaussian_filter\n",
    "from scipy.interpolate import griddata\n",
    "from scipy.signal import convolve2d\n",
    "from cv2 import copyMakeBorder,BORDER_REPLICATE"
   ]
  },
  {
   "cell_type": "markdown",
   "metadata": {},
   "source": [
    "# Parametric estimation\n",
    "In this second practical work, we will work on parametric estimation, both using direct and indirect methods.\n",
    "## I- Direct parametric estimation\n",
    "## I-1 Theoretical questions\n",
    "\n",
    "**Infinite signal**\n",
    "\n",
    "Let $a: (n,m)\\in \\mathbb{Z}^2 \\rightarrow \\mathbb{R}$ be a bi-dimensional signal and $b(n,m)$ a signal of the same type.\n",
    "\n",
    "Recall the expression of the 2D discrete time Fourier transform (DTFT).\n",
    "\n",
    "Let us suppose that\n",
    "$\\exists c,d \\in \\mathbb{Z}^2: \\forall n,m \\in \\mathbb{Z}^2,b(n,m) = a(n+c,m+d)$ (that is, $b$ is a translation of $a$). Compute the DTFT of $b$ as a function of the one of $a$ and of the displacement $(c,d)$.\n",
    "\n",
    "Show that the ratio between the DTFTs is:\n",
    "$$\n",
    "\\frac{\\hat{b}(\\nu_x,\\nu_y)}{\\hat{a}(\\nu_x,\\nu_y)} = \\exp(i2\\pi (c\\nu_x + d \\nu_y))\n",
    "$$\n",
    "\n",
    "**Finite signal**\n",
    "\n",
    "Now, $a: (n,m) \\in \\{0,1,...,N-1\\}^2 \\rightarrow \\mathbb{R}$ and $b(n,m)$ are both finite signals. In that case, we use the Discrete Fourier Transform (DFT) rather than the DTFT.\n",
    "\n",
    "Recall the expression of the DFT.\n",
    "\n",
    "Under which hypotheses is the ratio between $a$'s and $b$'s DFT a linear phase signal:\n",
    "$$\n",
    "\\frac{\\hat{A}(k_x,k_y)}{\\hat{B}(k_x,k_y)} = \\exp\\left(\\frac{2i\\pi(ck_x + dk_y)}{N}\\right)\n",
    "$$"
   ]
  },
  {
   "cell_type": "markdown",
   "metadata": {},
   "source": [
    "**Answer**\n",
    "\n",
    "- 2D discrete time Fourier transform (DTFT): \n",
    "$$ \\hat{f}(u,v) = \\sum_{n \\in \\mathbb{Z}} \\sum_{m \\in \\mathbb{Z}} f(n,m) e^{-2i\\pi(un+vm)} $$\n",
    "\n",
    "We have $b(n,m) = a(n+c,m+d)$ so :\n",
    "$$\n",
    "\\begin{align*}\n",
    "\\hat{b}(\\nu_x,\\nu_y) &= \\sum_{n \\in \\mathbb{Z}} \\sum_{m \\in \\mathbb{Z}} b(n,m) e^{-2i\\pi(\\nu_xn+\\nu_ym)} \\\\\n",
    "&= \\sum_{n \\in \\mathbb{Z}} \\sum_{m \\in \\mathbb{Z}} a(n+c,m+d) e^{-2i\\pi(\\nu_xn+\\nu_ym)} \\\\\n",
    "&= \\sum_{n' \\in \\mathbb{Z}} \\sum_{m' \\in \\mathbb{Z}} a(n',m') e^{-2i\\pi(\\nu_x(n'-c)+\\nu_y(m'-d))} \\\\\n",
    "&= \\hat{a}(\\nu_x,\\nu_y) e^{2i\\pi(\\nu_xc+\\nu_yd)}\n",
    "\\end{align*}\n",
    "$$\n",
    "Hence we get : \n",
    "$$ \\frac{\\hat{b}(\\nu_x,\\nu_y)}{\\hat{a}(\\nu_x,\\nu_y)} = e^{2i\\pi(\\nu_xc+\\nu_yd)} $$\n",
    "\n",
    "- 2D discrete Fourier transform (DFT):\n",
    "$$ \\hat{F}(k,l) = \\frac{1}{N^2} \\sum_{n=0}^{N} \\sum_{m=0}^{N} f(n,m) e^{-2i\\pi(\\frac{kn+lm}{N})} $$\n",
    "\n",
    "The ratio between a's and b's DFT is a linear phase signal if and only if c and d are multiples of  N.\n"
   ]
  },
  {
   "cell_type": "markdown",
   "metadata": {},
   "source": [
    "## I-2 Practical part\n",
    "First, start to work on the 'ball.mat' image. We will apply a translation to this image and try to estimate the parameter of the translation.\n",
    "\n",
    "Try by either adding or not some noise into the image."
   ]
  },
  {
   "cell_type": "code",
   "execution_count": 129,
   "metadata": {},
   "outputs": [],
   "source": [
    "im1 = loadmat('ball.mat')['im1']\n",
    "im1 = im1.astype('float')\n",
    "\n",
    "# im1 = loadmat('lena.mat')['im1']\n",
    "# im1 = im1.astype('float')\n",
    "\n",
    "N, M = np.shape(im1)"
   ]
  },
  {
   "cell_type": "code",
   "execution_count": 130,
   "metadata": {},
   "outputs": [
    {
     "data": {
      "text/plain": [
       "(<Figure size 640x480 with 1 Axes>,\n",
       " <matplotlib.image.AxesImage at 0x22410955010>)"
      ]
     },
     "execution_count": 130,
     "metadata": {},
     "output_type": "execute_result"
    },
    {
     "data": {
      "image/png": "[encoded data removed]",
      "text/plain": [
       "<Figure size 640x480 with 1 Axes>"
      ]
     },
     "metadata": {},
     "output_type": "display_data"
    }
   ],
   "source": [
    "# Potentially add noise to the image\n",
    "sigma = 0\n",
    "im1 = gaussian_filter(im1,sigma)\n",
    "plt.figure(),plt.imshow(im1,cmap='gray')"
   ]
  },
  {
   "cell_type": "markdown",
   "metadata": {},
   "source": [
    "In the following, we apply a translation to the image. To do that, use the applyAffineMotion function which is already pre-implemented."
   ]
  },
  {
   "cell_type": "code",
   "execution_count": 131,
   "metadata": {},
   "outputs": [],
   "source": [
    "def fracMc(ref,mvf,outofbound=20):\n",
    "    \n",
    "    [rows, cols] = np.shape(ref);\n",
    "    \n",
    "    \n",
    "    \n",
    "    mc_c, mc_r = np.meshgrid(np.arange(cols),np.arange(rows)) # Initial coordinates, used to infer the new coordinates\n",
    "    \n",
    "    mc_r_tmp = mc_r + mvf[:,:,0] # Row coordinates, after the movement\n",
    "    mc_c_tmp = mc_c + mvf[:,:,1] # Column coordinates, after the movement\n",
    "    \n",
    "    extension = outofbound\n",
    "    #ref = cv2.copyMakeBorder(ref, extension, extension, extension, extension, cv2.BORDER_REPLICATE)# Padded image\n",
    "    ref = cv2.copyMakeBorder(ref, extension, extension, extension, extension, cv2.BORDER_REFLECT)# Padded image\n",
    "    \n",
    "    mc_r = mc_r_tmp + extension # Row coordinates, after the movement, in which we want to do the interpolation (in the padded image)\n",
    "    mc_c = mc_c_tmp + extension # Column coordinates, after the movement, in which we want to do the interpolation (in the padded image)\n",
    "    \n",
    "    colMeshGrid, rowMeshGrid = np.meshgrid(np.arange(cols+2*extension),np.arange(rows+2*extension)) # Original coordinates, at which we know the data points\n",
    "    \n",
    "    \n",
    "    # Put the input coordinates into the form of an array, to mach scipy format\n",
    "    points = np.zeros((np.shape(ref)[0]*np.shape(ref)[1],2))\n",
    "    points[:,0] = colMeshGrid.reshape(np.shape(ref)[0]*np.shape(ref)[1])\n",
    "    points[:,1] = rowMeshGrid.reshape(np.shape(ref)[0]*np.shape(ref)[1])\n",
    "    \n",
    "    values = ref.reshape(np.shape(ref)[0]*np.shape(ref)[1])    \n",
    "    \n",
    "    \n",
    "    # Put the coordinates in which we want ot do the interpolation into the form of an array, to mach scipy format\n",
    "    points_inter = np.zeros((rows*cols,2))\n",
    "    points_inter[:,0] = mc_c.reshape(rows*cols)\n",
    "    points_inter[:,1] = mc_r.reshape(rows*cols)\n",
    "    \n",
    "    motcomp =  griddata(points, values, points_inter,'linear')\n",
    "    \n",
    "    motcomp = motcomp.reshape(rows,cols)\n",
    "\n",
    "    return motcomp\n",
    "\n",
    "\n",
    "def applyAffineMotion(x,b,B = np.zeros((2,2)),out = 100):\n",
    "    N, M = np.shape(x)\n",
    "    px, py = np.meshgrid(np.arange(-(M-1)/2,(M-1)/2+1), np.arange(-(N-1)/2,(N-1)/2+1))\n",
    "    \n",
    "    mvfx = b[0] + B[0,0]*px + B[0,1]*py\n",
    "    mvfy = b[1] + B[1,0]*px + B[1,1]*py\n",
    "    \n",
    "    mvf = np.zeros((np.shape(mvfx)[0],np.shape(mvfx)[1],2))\n",
    "    mvf[:,:,1] = mvfx\n",
    "    mvf[:,:,0] = mvfy\n",
    "    \n",
    "    y = fracMc(x,mvf,out)\n",
    "    return y"
   ]
  },
  {
   "cell_type": "code",
   "execution_count": 132,
   "metadata": {},
   "outputs": [
    {
     "data": {
      "text/plain": [
       "(<Figure size 640x480 with 1 Axes>,\n",
       " <matplotlib.image.AxesImage at 0x224105861d0>)"
      ]
     },
     "execution_count": 132,
     "metadata": {},
     "output_type": "execute_result"
    },
    {
     "data": {
      "image/png": "[encoded data removed]",
      "text/plain": [
       "<Figure size 640x480 with 1 Axes>"
      ]
     },
     "metadata": {},
     "output_type": "display_data"
    }
   ],
   "source": [
    "horiz_displacement = -20.\n",
    "vert_displacement  = 35.\n",
    "b = np.array([ horiz_displacement, vert_displacement])\n",
    "\n",
    "# We could also use an affine motion matrix\n",
    "B = np.zeros((2,2))\n",
    "\n",
    "im2 = applyAffineMotion(im1,b,B)\n",
    "plt.figure(),plt.imshow(im2,cmap='gray')"
   ]
  },
  {
   "cell_type": "markdown",
   "metadata": {},
   "source": [
    "Compute the FFT of the two images. Using the indications given in the theroretical part, describe a method with which you can find the parameters of the translation from the two FFTs."
   ]
  },
  {
   "cell_type": "markdown",
   "metadata": {},
   "source": [
    "**Answer:**\n",
    "\n",
    "We compute the phase of the ratio of the two FFT. If it is a translation, we should get a linear relation as shown in the first part. We just then need to compute the slope in each direction."
   ]
  },
  {
   "cell_type": "code",
   "execution_count": 133,
   "metadata": {},
   "outputs": [],
   "source": [
    "IM1 = np.fft.fft2(im1)\n",
    "IM2 = np.fft.fft2(im2)"
   ]
  },
  {
   "cell_type": "markdown",
   "metadata": {},
   "source": [
    "Compute the phase of the Fourier transform."
   ]
  },
  {
   "cell_type": "code",
   "execution_count": 134,
   "metadata": {},
   "outputs": [],
   "source": [
    "def angle2D(x):\n",
    "    a = np.angle(x)\n",
    "    \n",
    "    b1 = np.unwrap(a,axis=0)\n",
    "    b2 = np.unwrap(b1,axis=1)\n",
    "    b3 = np.unwrap(a,axis=0)[:,::-1]\n",
    "    b4 = np.unwrap(b3,axis=1)[:,::-1]\n",
    "    \n",
    "    y = (b2+b4)/2./(-2.*np.pi)\n",
    "    return y"
   ]
  },
  {
   "cell_type": "code",
   "execution_count": 135,
   "metadata": {},
   "outputs": [],
   "source": [
    "phi = angle2D(IM1/IM2)"
   ]
  },
  {
   "cell_type": "markdown",
   "metadata": {},
   "source": [
    "Display phi. Is it a linear plane and why?"
   ]
  },
  {
   "cell_type": "markdown",
   "metadata": {},
   "source": [
    "**Answer:**\n",
    "\n",
    "It is indeed a linear plane. It is normal because phi is a linear cobination of the horizontal and vertical displacments, according to the theorical part :\n",
    "$$ \\phi(\\nu_x,\\nu_y) = c \\nu_x + d \\nu_y $$"
   ]
  },
  {
   "cell_type": "code",
   "execution_count": 136,
   "metadata": {},
   "outputs": [
    {
     "data": {
      "image/png": "[encoded data removed]",
      "text/plain": [
       "<Figure size 640x480 with 1 Axes>"
      ]
     },
     "metadata": {},
     "output_type": "display_data"
    }
   ],
   "source": [
    "fx, fy = np.meshgrid(np.arange(-(M-1)/2,(M-1)/2+1)/M, np.arange(-(N-1)/2,(N-1)/2+1)/N)\n",
    "fig, ax = plt.subplots(subplot_kw={\"projection\": \"3d\"})\n",
    "surf = ax.plot_surface(fx, fy, phi, linewidth=0, antialiased=False)\n"
   ]
  },
  {
   "cell_type": "markdown",
   "metadata": {},
   "source": [
    "Translation estimation: to estimate the parameters of the translation, we are now looking for the slope of the plane.\n",
    "\n",
    "Method 1: estimate it using the median of the gradient. To do that, complete the gradient function."
   ]
  },
  {
   "cell_type": "code",
   "execution_count": 137,
   "metadata": {},
   "outputs": [],
   "source": [
    "def gradient(M,stepX=1.,stepY=1.):\n",
    "# Computes the gradient of an image, over the rows and the column directions. StepY is the assumed gap between the rows and StepX is the assumed gap between the columns\n",
    "\n",
    "    gy = np.gradient(M,stepY,axis=0)\n",
    "    gx = np.gradient(M,stepX,axis=1)\n",
    "    \n",
    "    return gx,gy"
   ]
  },
  {
   "cell_type": "code",
   "execution_count": 138,
   "metadata": {},
   "outputs": [],
   "source": [
    "gx, gy = gradient(phi,1/M,1/N)\n",
    "GX = np.median(gx)\n",
    "GY = np.median(gy)"
   ]
  },
  {
   "cell_type": "code",
   "execution_count": 139,
   "metadata": {},
   "outputs": [
    {
     "name": "stdout",
     "output_type": "stream",
     "text": [
      "-20.0\n",
      "35.0\n"
     ]
    }
   ],
   "source": [
    "print(GX)\n",
    "print(GY)"
   ]
  },
  {
   "cell_type": "markdown",
   "metadata": {},
   "source": [
    "Method 2: the code below computes the least Square planar approximation of phi, enabling you how to estimate the parameters of the translation. Explain how it works."
   ]
  },
  {
   "cell_type": "markdown",
   "metadata": {},
   "source": [
    "We look for the plane that minimizes the sum of the squared distances between the points and the plane. To do so, we need to compute the least square approximation of the plane."
   ]
  },
  {
   "cell_type": "code",
   "execution_count": 140,
   "metadata": {},
   "outputs": [],
   "source": [
    "def medianFilter(x,N):\n",
    "    z = copyMakeBorder(x, N, N, N, N, BORDER_REPLICATE)\n",
    "    y = np.zeros(np.shape(x))\n",
    "    \n",
    "    for r in range(np.shape(x)[0]):\n",
    "        for c in range(np.shape(x)[1]):\n",
    "            tmp = z[r:r+2*N+1,c:c+2*N+1]\n",
    "            y[r,c] = np.median(tmp)\n",
    "    return y"
   ]
  },
  {
   "cell_type": "code",
   "execution_count": 141,
   "metadata": {},
   "outputs": [],
   "source": [
    "phi = phi-phi[int(N/2+2), int(M/2+2)]\n",
    "t = medianFilter(phi,1)\n",
    "A = np.zeros((np.shape(fx)[0]*np.shape(fx)[1],2))\n",
    "A[:,0] = fx.reshape(np.shape(fx)[0]*np.shape(fx)[1])\n",
    "A[:,1] = fy.reshape(np.shape(fy)[0]*np.shape(fy)[1])\n",
    "b = t.reshape(np.shape(t)[0]*np.shape(t)[1])\n",
    "bEst = np.dot(np.linalg.pinv(A),b)"
   ]
  },
  {
   "cell_type": "code",
   "execution_count": 142,
   "metadata": {},
   "outputs": [
    {
     "name": "stdout",
     "output_type": "stream",
     "text": [
      "[-19.99998575  34.99727123]\n"
     ]
    }
   ],
   "source": [
    "print(bEst)"
   ]
  },
  {
   "cell_type": "markdown",
   "metadata": {},
   "source": [
    "**Relaunch the above code**:\n",
    "- with and without noise\n",
    "- with the lena image, instead of the ball image.\n",
    "\n",
    "Each time, are you able to correctly estimate the translation? Why? Comment your results."
   ]
  },
  {
   "cell_type": "markdown",
   "metadata": {},
   "source": [
    "**Answer**\n",
    "\n",
    "- Adding noise to the ball image didn't change anything at first, phi remaind a linear plane so it we were able to correctly estimate the translation. Howerver, with high noise, we can't estimate the translation because the noise is too important so thus it disturbs the linearity that we supposed.\n",
    "- For lena image, the phase phi is never a linear plane so we couldn't compute the translation parameters since our method is based over the linearity assumption."
   ]
  },
  {
   "cell_type": "markdown",
   "metadata": {},
   "source": [
    "# II-Indirect parametric estimation\n",
    "In this last part, we will perform indirect parametric estimation. The movement vector field will be estimated by 1) block matching; 2) optic flow. **You have to reuse here the functions that you implemented during the first practical work**. Each time, you will then estimate the translation by taking the median of the estimated vector field.\n",
    "\n",
    "Perform the experiment without and with noise (you can then take sigma = 2).\n",
    "\n",
    "Finally, compare all the parametric estimation methods when the translation values are not integer."
   ]
  },
  {
   "cell_type": "code",
   "execution_count": 143,
   "metadata": {},
   "outputs": [],
   "source": [
    "#%%\n",
    "def initVector(ref,cur):\n",
    "    \"\"\"\n",
    "    Performs an initialization for the first regularizers\n",
    "\n",
    "    Parameters\n",
    "    ----------\n",
    "    ref : np.array\n",
    "        Reference image.\n",
    "    cur : np.array\n",
    "        Reference image.\n",
    "\n",
    "    Returns\n",
    "    -------\n",
    "    pV : np.array (vector of size 2)\n",
    "        Regularizer for displacement.\n",
    "\n",
    "    \"\"\"\n",
    "    \n",
    "    \n",
    "    step = 8\n",
    "    cont = 4*step\n",
    "    \n",
    "    REF = gaussian_filter(ref,1.) # Unclear how to set sigma\n",
    "    CUR = gaussian_filter(cur,1.)\n",
    "    \n",
    "    CUR = CUR[cont+1:(np.shape(CUR)[0]-cont):step,cont+1:(np.shape(CUR)[1]-cont):step]\n",
    "    SSDMIN = np.inf\n",
    "    \n",
    "    pV=np.zeros(2)\n",
    "    \n",
    "    for globR in range(-cont,cont):\n",
    "        for globC in range(-cont,cont):\n",
    "            RR = REF[cont+1-globR:(cont-globR+np.shape(CUR)[0]*step):step, cont+1-globC:(cont-globC+np.shape(CUR)[1]*step):step]\n",
    "            SSD = np.sum((RR-CUR)**2)\n",
    "            \n",
    "            if SSD<SSDMIN:\n",
    "                SSDMIN=SSD\n",
    "                pV[0]=globR\n",
    "                pV[1]=globC\n",
    "                \n",
    "                \n",
    "    return pV\n",
    "\n",
    "#%%\n",
    "def computePredictor(r,c,brow,bcol,mvf,ref,cur):\n",
    "    \"\"\"\n",
    "    compute predictor gives the median of the mvf of the blocks :\n",
    "        - to the left of the current block\n",
    "        - above the current block\n",
    "        - upper left of the current block\n",
    "        \n",
    "    If such blocks do not exist due to the border effects, they are not taken into account.\n",
    "\n",
    "    Parameters\n",
    "    ----------\n",
    "    See usage in the me_ssd function\n",
    "\n",
    "    Returns\n",
    "    -------\n",
    "    pV : Median of the mvf of the neighboor blocks\n",
    "\n",
    "    \"\"\"\n",
    "    if r < brow and c < bcol:\n",
    "        pV = initVector(ref,cur)\n",
    "        \n",
    "    elif r < brow: # First row\n",
    "        pV = mvf[r,c-bcol,:]\n",
    "        \n",
    "    elif c < bcol: # First column\n",
    "        pV = mvf[r-brow,c,:]\n",
    "        \n",
    "    else: # Inside\n",
    "        if c >= np.shape(mvf)[1]-bcol: # Last column\n",
    "            vC = mvf[r-brow,c-bcol,:]\n",
    "        \n",
    "        else: # Not the last column\n",
    "            vC = mvf[r-brow,c+bcol,:]\n",
    "            \n",
    "        vA = mvf[r,c-bcol,:]\n",
    "        vB = mvf[r-brow,c,:]\n",
    "\n",
    "        temp = np.array([vA, vB, vC]).T\n",
    "\n",
    "        pV = np.median(temp,axis = 1)\n",
    "        \n",
    "    pV = pV.ravel()\n",
    "    \n",
    "    return pV\n",
    "\n",
    "\n",
    "#%%\n",
    "def me_ssd(cur, ref, brow, bcol, search, lamb=0):\n",
    "    \"\"\"\n",
    "    ME BMA full search Motion estimation\n",
    "    mvf, prediction = me_ssd(cur, ref, brow, bcol, search);\n",
    "\n",
    "    A regularization constraint can be used\n",
    "    mvf = me(cur, ref, brow, bcol, search, lambda);\n",
    "    In this case the function minimize SAD(v)+lambda*error(v)\n",
    "    where error(v) is the difference between the candidate vector v and the\n",
    "    median of its avalaible neighbors.\n",
    " \n",
    "    Code inspired from the one of Marco Cagnazzo\n",
    "\n",
    "\n",
    "    Parameters\n",
    "    ----------\n",
    "    cur : numpy array\n",
    "        Current (i.e. second) frame of the video.\n",
    "    ref : numpy array\n",
    "        Previous (i.e. first) frame of the video.\n",
    "    brow : int\n",
    "        Number of rows in each block.\n",
    "    bcol : int\n",
    "        Number of rows in each block.\n",
    "    search : int\n",
    "        Search radius\n",
    "    lamb : double\n",
    "        Regularization parameter\n",
    "\n",
    "    Returns\n",
    "    -------\n",
    "    mvf : TYPE\n",
    "        DESCRIPTION.\n",
    "    prediction : TYPE\n",
    "        DESCRIPTION.\n",
    "\n",
    "    \"\"\"\n",
    "    \n",
    "    extension = search\n",
    "    \n",
    "    ref_extended = cv2.copyMakeBorder(ref, extension, extension, extension, extension, cv2.BORDER_REPLICATE) # To avoid border effect\n",
    "    \n",
    "    prediction = np.zeros(np.shape(cur));\n",
    "    lamb *= brow*bcol;\n",
    "    \n",
    "    mvf = np.zeros((np.shape(cur)[0],np.shape(cur)[1],2))\n",
    "    \n",
    "    # Non-regularized search\n",
    "    if lamb == 0.:\n",
    "        for r in range(0,np.shape(cur)[0],brow): # for each block in the current image, find the best corresponding block in the reference image\n",
    "            for c in range(0,np.shape(cur)[1],bcol):\n",
    "                # current block selection\n",
    "                B = cur[r:r+brow, c:c+bcol] # Block\n",
    "\n",
    "                # Initialization:\n",
    "                costMin = np.inf\n",
    "                Rbest = np.zeros(B.shape)\n",
    "                drowbest, dcolbest = 0, 0\n",
    "                \n",
    "                # Loop on candidate displacement vectors\n",
    "                for dcol in range(c-search, c+search+1): # dcol = candidate displacement vector over the columns\n",
    "                    for drow in range(r-search, r+search+1): # rcol = candidate displacement vector over the rows\n",
    "                        \n",
    "                        R = ref_extended[drow+extension:drow+extension+brow, dcol+extension:dcol+extension+bcol]\n",
    "                        cost = np.sum(np.square(B-R))\n",
    "                        \n",
    "                        if cost < costMin : # Save the results if they are better than the previous ones\n",
    "                            costMin = cost\n",
    "                            Rbest = R\n",
    "                            drowbest = drow\n",
    "                            dcolbest = dcol\n",
    "                            \n",
    "                mvf[r:r+brow,c:c+bcol,0] = r-drowbest # Once the loop is over, save the best row displacement field\n",
    "                mvf[r:r+brow,c:c+bcol,1] = c-dcolbest # Once the loop is over, save the best column displacement field\n",
    "                prediction[r:r+brow,c:c+bcol] = Rbest\n",
    "                \n",
    "    else: # Regularized search\n",
    "        for r in range(0,np.shape(cur)[0],brow): # for each block in the current image, find the best corresponding block in the reference image\n",
    "            for c in range(0,np.shape(cur)[1],bcol):\n",
    "                # current block selection\n",
    "                B = cur[r:r+brow, c:c+bcol] # Block\n",
    "\n",
    "                # Initializations          \n",
    "                costMin = np.inf\n",
    "                Rbest = np.zeros(B.shape)\n",
    "                drowbest, dcolbest = 0, 0\n",
    "\n",
    "                # Neighbours : pV is the regularization vector. The regularizer must be such that the estimated displacement is not too far away from pV\n",
    "                pV = computePredictor(r,c,brow,bcol,mvf,ref,cur)\n",
    "                \n",
    "                # Loop on candidate vectors\n",
    "                for dcol in range(c-search, c+search+1): # dcol = candidate displacement vector over the columns\n",
    "                    for drow in range(r-search, r+search+1): # rcol = candidate displacement vector over the rows\n",
    "\n",
    "                        R = ref_extended[drow+extension:drow+extension+brow, dcol+extension:dcol+extension+bcol]\n",
    "                        #cost = np.sum(np.square(R-B)) + lamb*((drow-pV[0])**2+(dcol-pV[1])**2) # here, encore the REGULARIZED cost function\n",
    "                        cost = np.sum(np.square(R-B)) + lamb*LA.norm(pV)\n",
    "                        if cost < costMin :# Save the results if they are better than the previous ones\n",
    "                            costMin = cost\n",
    "                            Rbest = R\n",
    "                            drowbest = drow\n",
    "                            dcolbest = dcol\n",
    "                \n",
    "                mvf[r:r+brow,c:c+bcol,0] = r-drowbest # Once the loop is over, save the best row displacement field\n",
    "                mvf[r:r+brow,c:c+bcol,1] = c-dcolbest # Once the loop is over, save the best column displacement field\n",
    "                prediction[r:r+brow,c:c+bcol] = Rbest\n",
    "                \n",
    "                \n",
    "    mvf = -mvf # For compatibility with standards\n",
    "                            \n",
    "    return mvf, prediction\n",
    "\n",
    "def displayMVF(I,mvf,subsamp):\n",
    "    \n",
    "    row,col = np.shape(I)\n",
    "    \n",
    "    # Subsample dense MVF \n",
    "    vectRow = mvf[0:row:subsamp,0:col:subsamp,0]\n",
    "    vectCol = mvf[0:row:subsamp,0:col:subsamp,1]\n",
    "    \n",
    "    # Determine vector origins\n",
    "    X,Y = np.meshgrid(np.arange(0,col,subsamp),np.arange(0,row,subsamp))\n",
    "    X = X + np.floor(subsamp/2.)\n",
    "    Y = Y + np.floor(subsamp/2.)\n",
    "    \n",
    "    # Show image\n",
    "    plt.figure()\n",
    "    plt.imshow(I,cmap='gray')\n",
    "\n",
    "    plt.quiver(X, Y, vectCol,-vectRow)\n",
    "\n",
    "    \n",
    "    return\n",
    "\n",
    "def computeDerivatives(im1, im2):\n",
    "    kernel1D = np.expand_dims((1./12.)*np.array([-1., 8., 0., -8., 1.]),axis=1).T\n",
    "    fx = convolve2d(im1,kernel1D,'same')\n",
    "    fy = convolve2d(im1,kernel1D.T,'same')\n",
    "    ft = convolve2d(im1, 0.25*np.ones((2,2)),'same') + convolve2d(im2, -0.25*np.ones((2,2)),'same');\n",
    "    fx =-fx;\n",
    "    fy=-fy;\n",
    "\n",
    "    return fx, fy, ft\n",
    "\n",
    "\n",
    "#%%\n",
    "def HS(im1, im2, uInitial, vInitial, alpha=1, ite=100,blur = 1.):\n",
    "    \"\"\"\n",
    "    Horn-Schunck optical flow method.\n",
    "    Horn, B.K.P., and Schunck, B.G., Determining Optical Flow, AI(17), No. 1-3, August 1981, pp. 185-203 http://dspace.mit.edu/handle/1721.1/6337\n",
    "    \n",
    "    [u, v] = HS(im1, im2, alpha, ite, uInitial, vInitial, displayFlow)\n",
    "    \n",
    "    Parameters\n",
    "    ----------\n",
    "    im1, im2 : np.array\n",
    "        Two subsequent frames or images.\n",
    "    uInitial, vInitial: np.array\n",
    "        Initial values for the (u,v) flow. If well initialized, the flow would converge faster and hence would need less iterations.\n",
    "    alpha : scalar\n",
    "        A parameter that reflects the influence of the smoothness term.\n",
    "    ite : int\n",
    "        Number of iterations.\n",
    "\n",
    "    Returns\n",
    "    -------\n",
    "    u,v : np.array\n",
    "        Optical flow.\n",
    "    \"\"\"\n",
    "    \n",
    "    im1 = gaussian_filter(im1,blur)\n",
    "    im2 = gaussian_filter(im2,blur)\n",
    "    \n",
    "    # Set initial value for the flow vectors\n",
    "    u = uInitial.copy()\n",
    "    v = vInitial.copy()\n",
    "    \n",
    "    # Estimate spatiotemporal derivatives\n",
    "    fx, fy, ft = computeDerivatives(im1, im2)\n",
    "    \n",
    "    # Averaging kernel\n",
    "    kernel_1=np.array([[1./12., 1./6., 1./12.],[1./6., 0., 1./6.],[1./12., 1./6., 1./12.]])\n",
    "    \n",
    "    for i in range(ite):\n",
    "        # Compute local averages of the flow vectors using kernel_1\n",
    "        uAvg = convolve2d(u, kernel_1)[1:-1,1:-1]\n",
    "        vAvg = convolve2d(v, kernel_1)[1:-1,1:-1]\n",
    "        \n",
    "        # Compute flow vectors constrained by its local average and the optical flow constraints\n",
    "        u = uAvg - fx*(uAvg*fx + vAvg*fy+ft)/(alpha**2 + np.linalg.norm(fx+fy+ft)**2)\n",
    "        v = vAvg - fx*(uAvg*fx + vAvg*fy+ft)/(alpha**2 + np.linalg.norm(fx+fy+ft)**2)\n",
    "        \n",
    "    u[np.isnan(u)]= 0\n",
    "    v[np.isnan(v)]= 0\n",
    "    return u, v"
   ]
  },
  {
   "cell_type": "code",
   "execution_count": 144,
   "metadata": {},
   "outputs": [
    {
     "name": "stdout",
     "output_type": "stream",
     "text": [
      "-10.0\n",
      "-10.0\n"
     ]
    },
    {
     "data": {
      "image/png": "[encoded data removed]",
      "text/plain": [
       "<Figure size 640x480 with 1 Axes>"
      ]
     },
     "metadata": {},
     "output_type": "display_data"
    }
   ],
   "source": [
    "lamb = 0\n",
    "mvf,prediction = me_ssd(im2,im1,32,32,10,lamb)\n",
    "displayMVF(im2,mvf,32)\n",
    "mvf_x = mvf[:,:,1]\n",
    "mvf_y = mvf[:,:,0]\n",
    "bx = np.median(mvf_x)\n",
    "by = np.median(mvf_y)\n",
    "print(bx)\n",
    "print(by)"
   ]
  },
  {
   "cell_type": "markdown",
   "metadata": {},
   "source": [
    "Estimation with optic flow"
   ]
  },
  {
   "cell_type": "code",
   "execution_count": 145,
   "metadata": {},
   "outputs": [
    {
     "name": "stdout",
     "output_type": "stream",
     "text": [
      "-9.978624287404797\n",
      "-9.725003566294658\n"
     ]
    },
    {
     "data": {
      "image/png": "[encoded data removed]",
      "text/plain": [
       "<Figure size 640x480 with 1 Axes>"
      ]
     },
     "metadata": {},
     "output_type": "display_data"
    }
   ],
   "source": [
    "alpha = 100\n",
    "ite = 100\n",
    "uInitial = mvf[:,:,1]\n",
    "vInitial = mvf[:,:,0]\n",
    "u, v = HS(im2, im1, uInitial, vInitial, alpha, ite)\n",
    "mvf_hs = np.zeros((np.shape(v)[0],np.shape(v)[1],2))\n",
    "mvf_hs[:,:,0] = v\n",
    "mvf_hs[:,:,1] = u\n",
    "displayMVF(im1,mvf_hs,4)\n",
    "bx = np.median(u)\n",
    "by = np.median(v)\n",
    "print(bx)\n",
    "print(by)"
   ]
  },
  {
   "cell_type": "code",
   "execution_count": null,
   "metadata": {},
   "outputs": [],
   "source": []
  },
  {
   "cell_type": "code",
   "execution_count": null,
   "metadata": {},
   "outputs": [],
   "source": []
  }
 ],
 "metadata": {
  "kernelspec": {
   "display_name": "Python 3 (ipykernel)",
   "language": "python",
   "name": "python3"
  },
  "language_info": {
   "codemirror_mode": {
    "name": "ipython",
    "version": 3
   },
   "file_extension": ".py",
   "mimetype": "text/x-python",
   "name": "python",
   "nbconvert_exporter": "python",
   "pygments_lexer": "ipython3",
   "version": "3.11.5"
  }
 },
 "nbformat": 4,
 "nbformat_minor": 4
}
